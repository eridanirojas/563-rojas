{
  "nbformat": 4,
  "nbformat_minor": 0,
  "metadata": {
    "colab": {
      "provenance": [],
      "authorship_tag": "ABX9TyNKzPt6Aaiynornsa9Oq63g",
      "include_colab_link": true
    },
    "kernelspec": {
      "name": "python3",
      "display_name": "Python 3"
    },
    "language_info": {
      "name": "python"
    }
  },
  "cells": [
    {
      "cell_type": "markdown",
      "metadata": {
        "id": "view-in-github",
        "colab_type": "text"
      },
      "source": [
        "<a href=\"https://colab.research.google.com/github/eridanirojas/563-rojas/blob/main/Homework2.ipynb\" target=\"_parent\"><img src=\"https://colab.research.google.com/assets/colab-badge.svg\" alt=\"Open In Colab\"/></a>"
      ]
    },
    {
      "cell_type": "code",
      "source": [
        "# Example system to show ability to iteratively pair adjacent particles\n",
        "system1 = [[1,0,1,1],[0,1,0,1],[0,1,0,1],[0,1,0,1]]\n",
        "# Example systems from Shell\n",
        "system2 = [[0,1,0,0],[0,0,1,0],[0,0,0,0],[0,0,0,0]]\n",
        "system3 = [[0,0,0,0],[1,1,0,0],[0,0,0,0],[0,0,0,0]]\n",
        "system4 = [[1,0,0,0],[0,0,0,0],[0,0,1,0],[0,0,0,0]]\n",
        "system5 = [[0,0,0,0],[0,0,0,1],[0,0,0,1],[0,0,0,0]]\n",
        "def config_energy(system):\n",
        "    sum = 0\n",
        "    while True:\n",
        "        pair = False\n",
        "        for i in range(len(system)):\n",
        "            for j in range(len(system[i])):\n",
        "                if system[i][j] == 1:\n",
        "                    if j < len(system[i]) - 1 and system[i][j+1] == 1:  # Horizontal pair\n",
        "                        sum -= 1\n",
        "                        print(f\"Energy: {sum} with pair found between positions (row {i+1}, column {j+1}) and (row {i+1}, column {j+2})\")\n",
        "                        system[i][j] = 0\n",
        "                        system[i][j+1] = 0\n",
        "                        pair = True\n",
        "                        break\n",
        "                    elif i < len(system) - 1 and system[i+1][j] == 1:  # Vertical pair\n",
        "                        sum -= 1\n",
        "                        print(f\"Energy: {sum} with pair found between positions (row {i+1}, column {j+1}) and (row {i+2}, column {j+1})\")\n",
        "                        system[i][j] = 0\n",
        "                        system[i+1][j] = 0\n",
        "                        pair = True\n",
        "                        break\n",
        "            if pair:\n",
        "                break\n",
        "        if not pair:\n",
        "            break\n",
        "    print(f\"Total energy is {sum}, with a unpaired particles in {system}\")"
      ],
      "metadata": {
        "id": "GSXBUPPv3G7C"
      },
      "execution_count": 19,
      "outputs": []
    },
    {
      "cell_type": "code",
      "source": [
        "config_energy(system1)"
      ],
      "metadata": {
        "colab": {
          "base_uri": "https://localhost:8080/"
        },
        "id": "L6fXkbWzf1kz",
        "outputId": "dd44fed3-01be-440d-b2b4-773af5eb727c"
      },
      "execution_count": 20,
      "outputs": [
        {
          "output_type": "stream",
          "name": "stdout",
          "text": [
            "Energy: -1 with pair found between positions (row 1, column 3) and (row 1, column 4)\n",
            "Energy: -2 with pair found between positions (row 2, column 2) and (row 3, column 2)\n",
            "Energy: -3 with pair found between positions (row 2, column 4) and (row 3, column 4)\n",
            "Total energy is -3, with a unpaired particles in [[1, 0, 0, 0], [0, 0, 0, 0], [0, 0, 0, 0], [0, 1, 0, 1]]\n"
          ]
        }
      ]
    },
    {
      "cell_type": "code",
      "source": [
        "config_energy(system2)"
      ],
      "metadata": {
        "colab": {
          "base_uri": "https://localhost:8080/"
        },
        "id": "ZSQqqdSuoJ_M",
        "outputId": "a892b434-a061-48e6-97b0-85becdec490b"
      },
      "execution_count": 21,
      "outputs": [
        {
          "output_type": "stream",
          "name": "stdout",
          "text": [
            "Total energy is 0, with a unpaired particles in [[0, 1, 0, 0], [0, 0, 1, 0], [0, 0, 0, 0], [0, 0, 0, 0]]\n"
          ]
        }
      ]
    },
    {
      "cell_type": "code",
      "source": [
        "config_energy(system3)"
      ],
      "metadata": {
        "colab": {
          "base_uri": "https://localhost:8080/"
        },
        "id": "52IFxRU-oKQF",
        "outputId": "87701499-cab0-4b2b-ccbb-5e938fbfe0c4"
      },
      "execution_count": 22,
      "outputs": [
        {
          "output_type": "stream",
          "name": "stdout",
          "text": [
            "Energy: -1 with pair found between positions (row 2, column 1) and (row 2, column 2)\n",
            "Total energy is -1, with a unpaired particles in [[0, 0, 0, 0], [0, 0, 0, 0], [0, 0, 0, 0], [0, 0, 0, 0]]\n"
          ]
        }
      ]
    },
    {
      "cell_type": "code",
      "source": [
        "config_energy(system4)"
      ],
      "metadata": {
        "colab": {
          "base_uri": "https://localhost:8080/"
        },
        "id": "u9G7VsFUoKbT",
        "outputId": "2204ab0e-7ef1-482d-f686-6d54fca179e3"
      },
      "execution_count": 23,
      "outputs": [
        {
          "output_type": "stream",
          "name": "stdout",
          "text": [
            "Total energy is 0, with a unpaired particles in [[1, 0, 0, 0], [0, 0, 0, 0], [0, 0, 1, 0], [0, 0, 0, 0]]\n"
          ]
        }
      ]
    },
    {
      "cell_type": "code",
      "source": [
        "config_energy(system5)"
      ],
      "metadata": {
        "colab": {
          "base_uri": "https://localhost:8080/"
        },
        "id": "nAomFEYKoKoV",
        "outputId": "cb3ede0b-8a3a-4e51-882a-2fe1d29a6f03"
      },
      "execution_count": 24,
      "outputs": [
        {
          "output_type": "stream",
          "name": "stdout",
          "text": [
            "Energy: -1 with pair found between positions (row 2, column 4) and (row 3, column 4)\n",
            "Total energy is -1, with a unpaired particles in [[0, 0, 0, 0], [0, 0, 0, 0], [0, 0, 0, 0], [0, 0, 0, 0]]\n"
          ]
        }
      ]
    },
    {
      "cell_type": "code",
      "source": [
        "# Take the natural log of both sides of the combination formula and use logarithmetic properties to rewrite\n",
        "# ln(nCk) = ln(n!) - ln(k!) - ln((n-k)!)\n",
        "\n",
        "# Remember x = k/n\n",
        "\n",
        "# Use Stirling's Approximation:\n",
        "# ln(nCk) = (n*ln(n) - n) - (k*ln(k) - k) - ((n-k) ln(n-k) - (n-k))\n",
        "\n",
        "# Substitute k = n*x and n-k = n*(1-x):\n",
        "# ln(nCk) = n*ln(n) - n - n*x*ln(n*x) + n*x - n*(1-x) ln(n*(1-x)) + n*(1-x)\n",
        "\n",
        "# Expand ln(n*x) and ln(n*(1-x)):\n",
        "# ln(nCk) = n*ln(n) - n - n*x*(ln(n) + ln(x)) + n*x - n*(1-x)*(ln(n) + ln(1-x)) + n*(1-x)\n",
        "\n",
        "# Simplify:\n",
        "# ln(nCk) = -n[x*ln(x) + (1-x)*ln(1-x)]"
      ],
      "metadata": {
        "id": "T5pwhlntnkin"
      },
      "execution_count": 25,
      "outputs": []
    },
    {
      "cell_type": "code",
      "source": [
        "import math as m\n",
        "def combinations(n,k):\n",
        "  x = k/n\n",
        "  stirlings_ln_n_fact = n*m.log(n)-n # Approximation of ln(n!)\n",
        "  direct_ln_n_fact = m.log(m.factorial(n)) # Direct ln(n!)\n",
        "  stirlings_ln_nCk = stirlings_ln_n_fact - (k * m.log(k) - k) - ((n-k) * m.log(n-k) - (n-k)) # Approximation of ln(nCk)\n",
        "  direct_ln_nCk = m.log(m.factorial(n)) - m.log(m.factorial(k)) - m.log(m.factorial(n-k)) # Direct of ln(nCk)\n",
        "  print(stirlings_ln_n_fact, \"ln(n!) approximation\")\n",
        "  print(direct_ln_n_fact, \"ln(n!) direct\")\n",
        "  print(stirlings_ln_nCk, \"ln(nCk) approximation\")\n",
        "  print(direct_ln_nCk, \"ln(nCk) direct\")"
      ],
      "metadata": {
        "id": "CrEh3OYcat3a"
      },
      "execution_count": 26,
      "outputs": []
    },
    {
      "cell_type": "code",
      "source": [
        "combinations(100,30) # Comparison of Stirling's method versus direct method. Not off by that much in the lower parts of n and k it seems."
      ],
      "metadata": {
        "colab": {
          "base_uri": "https://localhost:8080/"
        },
        "id": "dbB7DLDIlvQS",
        "outputId": "f29d0b66-298e-48c5-ee54-0098ba4e90ab"
      },
      "execution_count": 27,
      "outputs": [
        {
          "output_type": "stream",
          "name": "stdout",
          "text": [
            "360.51701859880916 ln(n!) approximation\n",
            "363.73937555556347 ln(n!) direct\n",
            "61.086430205489364 ln(nCk) approximation\n",
            "58.64209564095637 ln(nCk) direct\n"
          ]
        }
      ]
    },
    {
      "cell_type": "code",
      "source": [
        "combinations(2000,1400) # Still pretty good."
      ],
      "metadata": {
        "colab": {
          "base_uri": "https://localhost:8080/"
        },
        "id": "_yyIryyboqUL",
        "outputId": "07a8b5d9-83b6-4418-9828-992ebce17c30"
      },
      "execution_count": 29,
      "outputs": [
        {
          "output_type": "stream",
          "name": "stdout",
          "text": [
            "13201.804919084165 ln(n!) approximation\n",
            "13206.524350513806 ln(n!) direct\n",
            "1221.7286041097877 ln(nCk) approximation\n",
            "1217.7893814749254 ln(nCk) direct\n"
          ]
        }
      ]
    }
  ]
}