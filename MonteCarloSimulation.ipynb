{
  "nbformat": 4,
  "nbformat_minor": 0,
  "metadata": {
    "colab": {
      "provenance": [],
      "authorship_tag": "ABX9TyNhJs/A+g9hvA2/rXBW4wsu",
      "include_colab_link": true
    },
    "kernelspec": {
      "name": "python3",
      "display_name": "Python 3"
    },
    "language_info": {
      "name": "python"
    }
  },
  "cells": [
    {
      "cell_type": "markdown",
      "metadata": {
        "id": "view-in-github",
        "colab_type": "text"
      },
      "source": [
        "<a href=\"https://colab.research.google.com/github/eridanirojas/563-rojas/blob/main/MonteCarloSimulation.ipynb\" target=\"_parent\"><img src=\"https://colab.research.google.com/assets/colab-badge.svg\" alt=\"Open In Colab\"/></a>"
      ]
    },
    {
      "cell_type": "code",
      "execution_count": 1,
      "metadata": {
        "id": "hz9qMQ7vkHyq"
      },
      "outputs": [],
      "source": [
        "#Goals:\n",
        "#Implement square-lattice MC\n",
        "# particles to sit on a grid\n",
        "# calculate the energy of your grid\n",
        "# implement trial moves that obey detailed balance\n",
        "# have periodic boundary conditions"
      ]
    },
    {
      "cell_type": "code",
      "source": [
        "import numpy as np\n",
        "import random\n",
        "import math\n",
        "import copy"
      ],
      "metadata": {
        "id": "5GltWfgzzWpY"
      },
      "execution_count": 2,
      "outputs": []
    },
    {
      "cell_type": "code",
      "source": [
        "class Particle: # I don't know what to do with this YET\n",
        "  def __init__(self, location):\n",
        "    self.location = location"
      ],
      "metadata": {
        "id": "tIWtFt-Ze2pv"
      },
      "execution_count": 3,
      "outputs": []
    },
    {
      "cell_type": "code",
      "source": [
        "class System:\n",
        "  def __init__(self, size, N):\n",
        "    self.sites = (np.zeros([size,size])).tolist()\n",
        "\n",
        "    if N <= size*size:\n",
        "      self.N = N # for putting N particles in system\n",
        "      self.fill_system(size)\n",
        "      self.energy = self.energy_calc(self.sites)\n",
        "    else:\n",
        "      raise ValueError(\"Need particles to be less than grid indices\")\n",
        "\n",
        "  def fill_system(self, size):\n",
        "    self.particles = []\n",
        "    placed_n = 0\n",
        "\n",
        "    while placed_n < self.N:\n",
        "      row = random.randint(0, size-1)\n",
        "      col = random.randint(0, size-1)\n",
        "\n",
        "      if self.sites[row][col] == 0:\n",
        "        self.sites[row][col] = 1.0\n",
        "        particle = Particle([row+1, col+1]) # add some extra arguments?\n",
        "        self.particles.append(particle)\n",
        "        placed_n += 1\n",
        "\n",
        "  def energy_calc(self, sites):\n",
        "    sum_energy = 0\n",
        "    t_sites = copy.deepcopy(sites)\n",
        "    size = len(t_sites)\n",
        "\n",
        "    for i in range(size):\n",
        "        for j in range(size):\n",
        "            if t_sites[i][j] == 1:\n",
        "                neighbors = 0\n",
        "                # PBC\n",
        "                right_j = (j + 1) % size\n",
        "                left_j = (j - 1) if j > 0 else size - 1\n",
        "                down_i = (i + 1) % size\n",
        "                up_i = (i - 1) if i > 0 else size - 1\n",
        "                # How many neighbors does this particle have?\n",
        "                if t_sites[i][right_j] == 1:\n",
        "                    neighbors += 1\n",
        "                if t_sites[i][left_j] == 1:\n",
        "                    neighbors += 1\n",
        "                if t_sites[down_i][j] == 1:\n",
        "                    neighbors += 1\n",
        "                if t_sites[up_i][j] == 1:\n",
        "                    neighbors += 1\n",
        "                # Neighborly energy decrease\n",
        "                if neighbors == 4:\n",
        "                    sum_energy -= 4\n",
        "                elif neighbors == 3:\n",
        "                    sum_energy -= 3\n",
        "                elif neighbors == 2:\n",
        "                    sum_energy -= 2\n",
        "                elif neighbors == 1:\n",
        "                    sum_energy -= 1\n",
        "                # All bonds to this particle will no longer be double counted\n",
        "                t_sites[i][j] = 0.0\n",
        "    return sum_energy"
      ],
      "metadata": {
        "id": "24rJ1AvczSCG"
      },
      "execution_count": 4,
      "outputs": []
    },
    {
      "cell_type": "code",
      "source": [
        "def montecarlo(system, steps, temp):\n",
        "    size = len(system.sites)\n",
        "    sim_sites = copy.deepcopy(system.sites)  # Simulation copy\n",
        "    energy = system.energy  # Initial energy\n",
        "    configs = [copy.deepcopy(sim_sites)]  # Store initial configuration\n",
        "    energies = [energy]  # Store initial energy\n",
        "    step = 0\n",
        "\n",
        "    while step < steps:\n",
        "        row = random.randint(0, size - 1)\n",
        "        col = random.randint(0, size - 1)\n",
        "\n",
        "        if sim_sites[row][col] == 1:  # If particle\n",
        "            num = random.random()\n",
        "\n",
        "            # PBC\n",
        "            right_col = (col + 1) % size\n",
        "            left_col = (col - 1) if col > 0 else size - 1\n",
        "            up_row = (row - 1) if row > 0 else size - 1\n",
        "            down_row = (row + 1) % size\n",
        "\n",
        "            # Propose a move direction, obeying detailed balance P(A->B) = P(B->A)\n",
        "            if 0 <= num < 0.25:\n",
        "                new_row, new_col = row, right_col # right\n",
        "            elif 0.25 <= num < 0.50:\n",
        "                new_row, new_col = up_row, col # up\n",
        "            elif 0.50 <= num < 0.75:\n",
        "                new_row, new_col = row, left_col # left\n",
        "            else:\n",
        "                new_row, new_col = down_row, col # down\n",
        "\n",
        "            if sim_sites[new_row][new_col] == 0.0: # Ensure no collision\n",
        "                # Perform move\n",
        "                sim_sites[row][col] = 0.0\n",
        "                sim_sites[new_row][new_col] = 1.0\n",
        "\n",
        "                # Compute energy\n",
        "                E_final = system.energy_calc(sim_sites)\n",
        "                delta_E = E_final - energy # Energy difference\n",
        "\n",
        "                # Metropolis Acceptance Rule, obeying detailed balance\n",
        "                if delta_E <= 0 or random.random() < math.exp(-delta_E / temp):\n",
        "                    # Accept move\n",
        "                    energy = E_final # Set energy of new configuration\n",
        "                    step += 1\n",
        "                else:\n",
        "                    # Reject move\n",
        "                    sim_sites[row][col], sim_sites[new_row][new_col] = 1.0, 0.0 # undo move\n",
        "                    step += 1\n",
        "            else:\n",
        "              continue\n",
        "\n",
        "        configs.append(copy.deepcopy(sim_sites)) # Configuration history\n",
        "        energies.append(energy)  # Energy history\n",
        "\n",
        "    return configs, energies"
      ],
      "metadata": {
        "id": "f1_DH_Rs4_lV"
      },
      "execution_count": 5,
      "outputs": []
    },
    {
      "cell_type": "code",
      "source": [
        "system = System(15, 30) # V, N, anything past 15 V is impractical for google colab"
      ],
      "metadata": {
        "id": "-ZihVsCjuv6b"
      },
      "execution_count": 6,
      "outputs": []
    },
    {
      "cell_type": "code",
      "source": [
        "configs, energies = montecarlo(system, 10000, 1) # system object, steps, T , T <= 1 we see more clustering."
      ],
      "metadata": {
        "id": "RwH0VlJN7bc-"
      },
      "execution_count": 11,
      "outputs": []
    },
    {
      "cell_type": "code",
      "source": [
        "print(energies[0])\n",
        "print(energies[-1])"
      ],
      "metadata": {
        "colab": {
          "base_uri": "https://localhost:8080/"
        },
        "id": "40TAdfzkhzMv",
        "outputId": "130944aa-2d6b-4a5f-ffe7-ba37b117f3db"
      },
      "execution_count": 12,
      "outputs": [
        {
          "output_type": "stream",
          "name": "stdout",
          "text": [
            "-7\n",
            "-13\n"
          ]
        }
      ]
    },
    {
      "cell_type": "code",
      "source": [
        "display(configs[0])"
      ],
      "metadata": {
        "colab": {
          "base_uri": "https://localhost:8080/",
          "height": 277
        },
        "id": "rBz0c8QWlEn3",
        "outputId": "85c6d4e8-1cfb-45c2-b3b7-33dcfe99f81a"
      },
      "execution_count": 13,
      "outputs": [
        {
          "output_type": "display_data",
          "data": {
            "text/plain": [
              "[[1.0, 0.0, 0.0, 0.0, 0.0, 0.0, 0.0, 0.0, 0.0, 0.0, 0.0, 0.0, 0.0, 0.0, 0.0],\n",
              " [0.0, 1.0, 0.0, 0.0, 0.0, 0.0, 0.0, 1.0, 0.0, 0.0, 0.0, 1.0, 0.0, 0.0, 0.0],\n",
              " [0.0, 0.0, 0.0, 0.0, 1.0, 0.0, 0.0, 0.0, 0.0, 0.0, 0.0, 1.0, 0.0, 0.0, 0.0],\n",
              " [0.0, 0.0, 1.0, 0.0, 1.0, 0.0, 0.0, 0.0, 0.0, 0.0, 0.0, 0.0, 0.0, 0.0, 0.0],\n",
              " [0.0, 1.0, 0.0, 1.0, 0.0, 1.0, 0.0, 0.0, 1.0, 1.0, 0.0, 0.0, 0.0, 0.0, 0.0],\n",
              " [0.0, 0.0, 0.0, 0.0, 0.0, 0.0, 0.0, 0.0, 0.0, 0.0, 0.0, 0.0, 0.0, 0.0, 0.0],\n",
              " [1.0, 0.0, 0.0, 0.0, 0.0, 0.0, 0.0, 0.0, 0.0, 0.0, 0.0, 0.0, 1.0, 0.0, 1.0],\n",
              " [0.0, 0.0, 0.0, 0.0, 0.0, 0.0, 0.0, 0.0, 0.0, 0.0, 0.0, 1.0, 0.0, 0.0, 0.0],\n",
              " [1.0, 0.0, 0.0, 0.0, 0.0, 0.0, 1.0, 0.0, 0.0, 1.0, 0.0, 0.0, 0.0, 0.0, 0.0],\n",
              " [0.0, 0.0, 1.0, 0.0, 0.0, 0.0, 1.0, 0.0, 0.0, 0.0, 0.0, 0.0, 0.0, 0.0, 1.0],\n",
              " [0.0, 0.0, 0.0, 0.0, 0.0, 0.0, 0.0, 0.0, 0.0, 0.0, 0.0, 1.0, 0.0, 0.0, 0.0],\n",
              " [0.0, 0.0, 0.0, 0.0, 0.0, 1.0, 1.0, 0.0, 1.0, 0.0, 0.0, 0.0, 0.0, 0.0, 0.0],\n",
              " [0.0, 0.0, 0.0, 0.0, 0.0, 1.0, 0.0, 0.0, 0.0, 0.0, 0.0, 0.0, 0.0, 0.0, 0.0],\n",
              " [0.0, 0.0, 0.0, 0.0, 0.0, 0.0, 0.0, 0.0, 0.0, 0.0, 0.0, 0.0, 0.0, 0.0, 1.0],\n",
              " [0.0, 0.0, 0.0, 0.0, 0.0, 0.0, 0.0, 0.0, 0.0, 0.0, 0.0, 0.0, 0.0, 1.0, 0.0]]"
            ]
          },
          "metadata": {}
        }
      ]
    },
    {
      "cell_type": "code",
      "source": [
        "display(configs[-1])"
      ],
      "metadata": {
        "colab": {
          "base_uri": "https://localhost:8080/",
          "height": 277
        },
        "id": "I4nx-RtkrFmP",
        "outputId": "aa6fefb1-9da6-4036-b4d7-c80c1b594a38"
      },
      "execution_count": 14,
      "outputs": [
        {
          "output_type": "display_data",
          "data": {
            "text/plain": [
              "[[0.0, 0.0, 0.0, 0.0, 0.0, 0.0, 0.0, 0.0, 1.0, 0.0, 0.0, 0.0, 1.0, 0.0, 0.0],\n",
              " [0.0, 0.0, 0.0, 0.0, 0.0, 0.0, 0.0, 0.0, 0.0, 0.0, 0.0, 0.0, 1.0, 0.0, 0.0],\n",
              " [0.0, 0.0, 0.0, 0.0, 0.0, 0.0, 0.0, 0.0, 0.0, 0.0, 0.0, 1.0, 0.0, 0.0, 1.0],\n",
              " [0.0, 0.0, 1.0, 0.0, 0.0, 0.0, 0.0, 0.0, 0.0, 0.0, 0.0, 0.0, 0.0, 0.0, 0.0],\n",
              " [1.0, 0.0, 0.0, 0.0, 0.0, 0.0, 0.0, 0.0, 0.0, 0.0, 0.0, 0.0, 0.0, 1.0, 0.0],\n",
              " [0.0, 0.0, 0.0, 0.0, 0.0, 0.0, 0.0, 0.0, 0.0, 1.0, 0.0, 0.0, 0.0, 0.0, 0.0],\n",
              " [0.0, 0.0, 0.0, 1.0, 0.0, 0.0, 0.0, 0.0, 0.0, 0.0, 1.0, 0.0, 0.0, 0.0, 1.0],\n",
              " [0.0, 0.0, 0.0, 1.0, 0.0, 0.0, 0.0, 0.0, 1.0, 0.0, 0.0, 0.0, 0.0, 0.0, 0.0],\n",
              " [0.0, 0.0, 0.0, 1.0, 0.0, 0.0, 0.0, 0.0, 0.0, 0.0, 0.0, 0.0, 1.0, 0.0, 0.0],\n",
              " [0.0, 0.0, 0.0, 0.0, 1.0, 0.0, 0.0, 1.0, 0.0, 0.0, 0.0, 0.0, 0.0, 0.0, 0.0],\n",
              " [0.0, 0.0, 0.0, 0.0, 0.0, 0.0, 0.0, 0.0, 0.0, 0.0, 0.0, 0.0, 0.0, 0.0, 0.0],\n",
              " [0.0, 0.0, 0.0, 0.0, 0.0, 0.0, 0.0, 0.0, 0.0, 0.0, 0.0, 0.0, 0.0, 0.0, 0.0],\n",
              " [1.0, 0.0, 0.0, 0.0, 0.0, 0.0, 1.0, 0.0, 0.0, 0.0, 0.0, 0.0, 0.0, 0.0, 0.0],\n",
              " [1.0, 0.0, 0.0, 0.0, 0.0, 0.0, 1.0, 1.0, 0.0, 0.0, 1.0, 1.0, 0.0, 0.0, 1.0],\n",
              " [0.0, 0.0, 0.0, 0.0, 0.0, 0.0, 0.0, 0.0, 1.0, 1.0, 1.0, 0.0, 1.0, 0.0, 0.0]]"
            ]
          },
          "metadata": {}
        }
      ]
    },
    {
      "cell_type": "code",
      "source": [],
      "metadata": {
        "id": "JebDbt8rBKWU"
      },
      "execution_count": null,
      "outputs": []
    }
  ]
}