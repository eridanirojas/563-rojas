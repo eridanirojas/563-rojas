{
  "nbformat": 4,
  "nbformat_minor": 0,
  "metadata": {
    "colab": {
      "provenance": [],
      "authorship_tag": "ABX9TyMvn19R/kCVDJ2zXm8xHmeT",
      "include_colab_link": true
    },
    "kernelspec": {
      "name": "python3",
      "display_name": "Python 3"
    },
    "language_info": {
      "name": "python"
    }
  },
  "cells": [
    {
      "cell_type": "markdown",
      "metadata": {
        "id": "view-in-github",
        "colab_type": "text"
      },
      "source": [
        "<a href=\"https://colab.research.google.com/github/eridanirojas/563-rojas/blob/main/MonteCarloSimulation.ipynb\" target=\"_parent\"><img src=\"https://colab.research.google.com/assets/colab-badge.svg\" alt=\"Open In Colab\"/></a>"
      ]
    },
    {
      "cell_type": "code",
      "execution_count": 1,
      "metadata": {
        "id": "hz9qMQ7vkHyq"
      },
      "outputs": [],
      "source": [
        "#Goals:\n",
        "#Implement square-lattice MC\n",
        "# particles to sit on a grid\n",
        "# calculate the energy of your grid\n",
        "# implement trial moves that obey detailed balance\n",
        "# have periodic boundary conditions"
      ]
    },
    {
      "cell_type": "code",
      "source": [
        "import numpy as np\n",
        "import random\n",
        "import math\n",
        "import copy\n",
        "import matplotlib.pyplot as plt"
      ],
      "metadata": {
        "id": "5GltWfgzzWpY"
      },
      "execution_count": 2,
      "outputs": []
    },
    {
      "cell_type": "code",
      "source": [
        "class Particle: # I don't know what to do with this YET\n",
        "  def __init__(self, location):\n",
        "    self.location = location"
      ],
      "metadata": {
        "id": "tIWtFt-Ze2pv"
      },
      "execution_count": 3,
      "outputs": []
    },
    {
      "cell_type": "code",
      "source": [
        "class System:\n",
        "  def __init__(self, size, N):\n",
        "    self.sites = (np.zeros([size,size])).tolist()\n",
        "\n",
        "    if N <= size*size:\n",
        "      self.N = N # for putting N particles in system\n",
        "      self.fill_system(size)\n",
        "      self.energy = self.energy_calc(self.sites)\n",
        "    else:\n",
        "      raise ValueError(\"Need particles to be less than grid indices\")\n",
        "\n",
        "  def fill_system(self, size):\n",
        "    self.particles = []\n",
        "    placed_n = 0\n",
        "\n",
        "    while placed_n < self.N:\n",
        "      row = random.randint(0, size-1)\n",
        "      col = random.randint(0, size-1)\n",
        "\n",
        "      if self.sites[row][col] == 0:\n",
        "        self.sites[row][col] = 1.0\n",
        "        particle = Particle([row+1, col+1]) # add some extra arguments?\n",
        "        self.particles.append(particle)\n",
        "        placed_n += 1\n",
        "\n",
        "  def energy_calc(self, sites):\n",
        "    sum_energy = 0\n",
        "    t_sites = copy.deepcopy(sites)\n",
        "    size = len(t_sites)\n",
        "\n",
        "    for i in range(size):\n",
        "        for j in range(size):\n",
        "            if t_sites[i][j] == 1:\n",
        "                neighbors = 0\n",
        "                # PBC\n",
        "                right_j = (j + 1) % size\n",
        "                left_j = (j - 1) if j > 0 else size - 1\n",
        "                down_i = (i + 1) % size\n",
        "                up_i = (i - 1) if i > 0 else size - 1\n",
        "                # How many neighbors does this particle have?\n",
        "                if t_sites[i][right_j] == 1:\n",
        "                    neighbors += 1\n",
        "                if t_sites[i][left_j] == 1:\n",
        "                    neighbors += 1\n",
        "                if t_sites[down_i][j] == 1:\n",
        "                    neighbors += 1\n",
        "                if t_sites[up_i][j] == 1:\n",
        "                    neighbors += 1\n",
        "                # Neighborly energy decrease\n",
        "                if neighbors == 4:\n",
        "                    sum_energy -= 4\n",
        "                elif neighbors == 3:\n",
        "                    sum_energy -= 3\n",
        "                elif neighbors == 2:\n",
        "                    sum_energy -= 2\n",
        "                elif neighbors == 1:\n",
        "                    sum_energy -= 1\n",
        "                # All bonds to this particle will no longer be double counted\n",
        "                t_sites[i][j] = 0.0\n",
        "    return sum_energy"
      ],
      "metadata": {
        "id": "24rJ1AvczSCG"
      },
      "execution_count": 4,
      "outputs": []
    },
    {
      "cell_type": "code",
      "source": [
        "def montecarlo(system, steps, temp):\n",
        "    size = len(system.sites)\n",
        "    sim_sites = copy.deepcopy(system.sites)  # Simulation copy\n",
        "    energy = system.energy  # Initial energy\n",
        "    configs = [copy.deepcopy(sim_sites)]  # Store initial configuration\n",
        "    energies = [energy]  # Store initial energy\n",
        "    step = 0\n",
        "    ts = [i for i in range(steps+1)]\n",
        "\n",
        "    while step < steps:\n",
        "        row = random.randint(0, size - 1)\n",
        "        col = random.randint(0, size - 1)\n",
        "\n",
        "        if sim_sites[row][col] == 1:  # If particle\n",
        "            num = random.random()\n",
        "\n",
        "            # PBC\n",
        "            right_col = (col + 1) % size\n",
        "            left_col = (col - 1) if col > 0 else size - 1\n",
        "            up_row = (row - 1) if row > 0 else size - 1\n",
        "            down_row = (row + 1) % size\n",
        "\n",
        "            # Propose a move direction, obeying detailed balance P(A->B) = P(B->A)\n",
        "            if 0 <= num < 0.25:\n",
        "                new_row, new_col = row, right_col # right\n",
        "            elif 0.25 <= num < 0.50:\n",
        "                new_row, new_col = up_row, col # up\n",
        "            elif 0.50 <= num < 0.75:\n",
        "                new_row, new_col = row, left_col # left\n",
        "            else:\n",
        "                new_row, new_col = down_row, col # down\n",
        "\n",
        "            if sim_sites[new_row][new_col] == 0.0: # Ensure no collision\n",
        "                # Perform move\n",
        "                sim_sites[row][col] = 0.0\n",
        "                sim_sites[new_row][new_col] = 1.0\n",
        "\n",
        "                # Compute energy\n",
        "                E_final = system.energy_calc(sim_sites)\n",
        "                delta_E = E_final - energy # Energy difference\n",
        "\n",
        "                # Metropolis Acceptance Rule, obeying detailed balance\n",
        "                if delta_E <= 0 or random.random() < math.exp(-delta_E / temp):\n",
        "                    # Accept move\n",
        "                    energy = E_final # Set energy of new configuration\n",
        "                    configs.append(copy.deepcopy(sim_sites)) # add to config history\n",
        "                    energies.append(energy) # add to energy history\n",
        "                    step += 1\n",
        "                else:\n",
        "                    # Reject move\n",
        "                    sim_sites[row][col], sim_sites[new_row][new_col] = 1.0, 0.0 # undo move\n",
        "                    configs.append(copy.deepcopy(sim_sites)) # add to config history\n",
        "                    energies.append(energy) # add to energy history\n",
        "                    step += 1\n",
        "            else:\n",
        "              continue # NEED TO INCLUDE REJECTION HERE VIA OVERLAPS\n",
        "    return configs, energies, ts"
      ],
      "metadata": {
        "id": "f1_DH_Rs4_lV"
      },
      "execution_count": 75,
      "outputs": []
    },
    {
      "cell_type": "code",
      "source": [
        "system = System(7, 15) # L, N, anything past 15 V is impractical for google colab"
      ],
      "metadata": {
        "id": "-ZihVsCjuv6b"
      },
      "execution_count": 76,
      "outputs": []
    },
    {
      "cell_type": "code",
      "source": [
        "configs, energies, ts = montecarlo(system, 30000, 0.5) # system object, steps, T , T <= 1 we see more clustering."
      ],
      "metadata": {
        "id": "RwH0VlJN7bc-"
      },
      "execution_count": 112,
      "outputs": []
    },
    {
      "cell_type": "code",
      "source": [
        "print(energies[0])\n",
        "print(energies[-1])"
      ],
      "metadata": {
        "colab": {
          "base_uri": "https://localhost:8080/"
        },
        "id": "40TAdfzkhzMv",
        "outputId": "b2860aee-548a-4a61-9fa1-c5f696a6d72f"
      },
      "execution_count": 113,
      "outputs": [
        {
          "output_type": "stream",
          "name": "stdout",
          "text": [
            "-7\n",
            "-17\n"
          ]
        }
      ]
    },
    {
      "cell_type": "code",
      "source": [
        "len(ts)"
      ],
      "metadata": {
        "id": "vP8D_nPsvkBY",
        "outputId": "644ddb3e-8223-4da2-8ee3-9b562c285f18",
        "colab": {
          "base_uri": "https://localhost:8080/"
        }
      },
      "execution_count": 114,
      "outputs": [
        {
          "output_type": "execute_result",
          "data": {
            "text/plain": [
              "30001"
            ]
          },
          "metadata": {},
          "execution_count": 114
        }
      ]
    },
    {
      "cell_type": "code",
      "source": [
        "len(energies)"
      ],
      "metadata": {
        "id": "8PtVASV_vlPL",
        "outputId": "ef2da6c1-0431-4f3d-a6f6-7ff9a1af8525",
        "colab": {
          "base_uri": "https://localhost:8080/"
        }
      },
      "execution_count": 115,
      "outputs": [
        {
          "output_type": "execute_result",
          "data": {
            "text/plain": [
              "30001"
            ]
          },
          "metadata": {},
          "execution_count": 115
        }
      ]
    },
    {
      "cell_type": "code",
      "source": [
        "display(configs[0])"
      ],
      "metadata": {
        "colab": {
          "base_uri": "https://localhost:8080/",
          "height": 138
        },
        "id": "rBz0c8QWlEn3",
        "outputId": "7ced5418-4835-4e35-cce2-4498c93b0cf8"
      },
      "execution_count": 116,
      "outputs": [
        {
          "output_type": "display_data",
          "data": {
            "text/plain": [
              "[[0.0, 1.0, 0.0, 0.0, 0.0, 1.0, 0.0],\n",
              " [1.0, 0.0, 0.0, 0.0, 1.0, 1.0, 1.0],\n",
              " [0.0, 0.0, 0.0, 0.0, 0.0, 0.0, 1.0],\n",
              " [0.0, 0.0, 0.0, 1.0, 0.0, 1.0, 0.0],\n",
              " [1.0, 0.0, 1.0, 0.0, 0.0, 0.0, 0.0],\n",
              " [1.0, 0.0, 0.0, 0.0, 0.0, 0.0, 0.0],\n",
              " [0.0, 1.0, 0.0, 1.0, 0.0, 0.0, 1.0]]"
            ]
          },
          "metadata": {}
        }
      ]
    },
    {
      "cell_type": "code",
      "source": [
        "display(configs[-1])"
      ],
      "metadata": {
        "colab": {
          "base_uri": "https://localhost:8080/",
          "height": 138
        },
        "id": "I4nx-RtkrFmP",
        "outputId": "589fb06d-7c82-4f35-b06f-a6240aca8d06"
      },
      "execution_count": 117,
      "outputs": [
        {
          "output_type": "display_data",
          "data": {
            "text/plain": [
              "[[0.0, 0.0, 1.0, 1.0, 0.0, 0.0, 0.0],\n",
              " [0.0, 0.0, 0.0, 0.0, 0.0, 0.0, 0.0],\n",
              " [0.0, 0.0, 0.0, 0.0, 0.0, 1.0, 0.0],\n",
              " [0.0, 0.0, 0.0, 0.0, 1.0, 1.0, 0.0],\n",
              " [0.0, 0.0, 0.0, 1.0, 1.0, 1.0, 1.0],\n",
              " [0.0, 0.0, 0.0, 1.0, 1.0, 1.0, 0.0],\n",
              " [1.0, 0.0, 1.0, 1.0, 0.0, 0.0, 0.0]]"
            ]
          },
          "metadata": {}
        }
      ]
    },
    {
      "cell_type": "code",
      "source": [
        "plt.plot(ts, energies)"
      ],
      "metadata": {
        "id": "JebDbt8rBKWU",
        "outputId": "e02081a8-b32c-4ed3-d006-e226d4be9ce9",
        "colab": {
          "base_uri": "https://localhost:8080/",
          "height": 447
        }
      },
      "execution_count": 118,
      "outputs": [
        {
          "output_type": "execute_result",
          "data": {
            "text/plain": [
              "[<matplotlib.lines.Line2D at 0x7f987b50c590>]"
            ]
          },
          "metadata": {},
          "execution_count": 118
        },
        {
          "output_type": "display_data",
          "data": {
            "text/plain": [
              "<Figure size 640x480 with 1 Axes>"
            ],
            "image/png": "[encoded data removed]"
          },
          "metadata": {}
        }
      ]
    },
    {
      "cell_type": "code",
      "source": [],
      "metadata": {
        "id": "1Bs56THp1om9"
      },
      "execution_count": null,
      "outputs": []
    }
  ]
}