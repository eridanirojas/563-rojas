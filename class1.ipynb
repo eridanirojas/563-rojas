{
  "nbformat": 4,
  "nbformat_minor": 0,
  "metadata": {
    "colab": {
      "provenance": [],
      "authorship_tag": "ABX9TyNZoj/Wn9rjeXKx7cxu9c+n",
      "include_colab_link": true
    },
    "kernelspec": {
      "name": "python3",
      "display_name": "Python 3"
    },
    "language_info": {
      "name": "python"
    }
  },
  "cells": [
    {
      "cell_type": "markdown",
      "metadata": {
        "id": "view-in-github",
        "colab_type": "text"
      },
      "source": [
        "<a href=\"https://colab.research.google.com/github/eridanirojas/563-rojas/blob/main/class1.ipynb\" target=\"_parent\"><img src=\"https://colab.research.google.com/assets/colab-badge.svg\" alt=\"Open In Colab\"/></a>"
      ]
    },
    {
      "cell_type": "code",
      "execution_count": 27,
      "metadata": {
        "colab": {
          "base_uri": "https://localhost:8080/"
        },
        "id": "M-59AphKtYAi",
        "outputId": "49cd79bf-682d-49c1-ad59-8f8cb19274bd"
      },
      "outputs": [
        {
          "output_type": "stream",
          "name": "stdout",
          "text": [
            "hello world\n"
          ]
        }
      ],
      "source": [
        "# I'm trying to figure out how many ways we can fit\n",
        "# 20 particles in a box of a volume of 4-billion by 4-billion\n",
        "print(\"hello world\")\n",
        "a = 20\n",
        "b = [1,23, \"string\"] #shift-enter runs the cell"
      ]
    },
    {
      "cell_type": "code",
      "source": [
        "print(b)"
      ],
      "metadata": {
        "colab": {
          "base_uri": "https://localhost:8080/"
        },
        "id": "8DZKA-jjt_ab",
        "outputId": "28875d44-c6ea-4b6e-c8cc-707bd8c2bc3d"
      },
      "execution_count": 28,
      "outputs": [
        {
          "output_type": "stream",
          "name": "stdout",
          "text": [
            "[1, 23, 'string']\n"
          ]
        }
      ]
    },
    {
      "cell_type": "code",
      "source": [
        "# Now we're really going to work on the problem\n",
        "places_can_sit = (4*10**9)**2"
      ],
      "metadata": {
        "id": "rEo9oQPfuOVg"
      },
      "execution_count": 29,
      "outputs": []
    },
    {
      "cell_type": "code",
      "source": [
        "print(places_can_sit**20)"
      ],
      "metadata": {
        "id": "dtHl6i7_xPEB",
        "outputId": "fd1930f4-7073-4ee8-eaf5-5e71d8b80e0b",
        "colab": {
          "base_uri": "https://localhost:8080/"
        }
      },
      "execution_count": 30,
      "outputs": [
        {
          "output_type": "stream",
          "name": "stdout",
          "text": [
            "1208925819614629174706176000000000000000000000000000000000000000000000000000000000000000000000000000000000000000000000000000000000000000000000000000000000000000000000000000000000000000000000000000000000000000000000000000000000000000000000000000000000000000000000000000000000000000000000000000000000000000000000000000000000000000000000000000000000000000000000000000000000000000000000000\n"
          ]
        }
      ]
    },
    {
      "cell_type": "code",
      "source": [
        "# how many years will it take to evaluate these configurations\n",
        "# with 2.67 billion evaluations per second ?\n",
        "evaluations = places_can_sit**20\n",
        "evaluations_per_second = int(2.67*10**9)\n",
        "total_time_seconds = (evaluations)//(evaluations_per_second)\n",
        "total_time_minutes = total_time_seconds//60\n",
        "total_time_hours = total_time_minutes//60\n",
        "total_time_days = total_time_hours//24\n",
        "total_time_years = total_time_days//365\n",
        "print(total_time_years, \"years\")"
      ],
      "metadata": {
        "id": "MQfrI7Fsxpt9",
        "outputId": "86d2bcba-e360-4b69-cfe3-e7e2c5ad85a8",
        "colab": {
          "base_uri": "https://localhost:8080/"
        }
      },
      "execution_count": 43,
      "outputs": [
        {
          "output_type": "stream",
          "name": "stdout",
          "text": [
            "14357597851603745588018021613014173683200413486186407021664319904533336373672939267316159214984313747845634357357716856972923875596904174196257721987546008889192922849482287171477053986930340118991291327241252847943115245972975181327754310156444474847840503784272703260954248589567454684688279680840349867080152853073688330986571200003040339605933982825881650980414512 years\n"
          ]
        }
      ]
    },
    {
      "cell_type": "code",
      "source": [],
      "metadata": {
        "id": "lrIF-y523YbT"
      },
      "execution_count": null,
      "outputs": []
    }
  ]
}