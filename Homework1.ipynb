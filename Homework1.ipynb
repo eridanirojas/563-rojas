{
  "nbformat": 4,
  "nbformat_minor": 0,
  "metadata": {
    "colab": {
      "provenance": [],
      "authorship_tag": "ABX9TyMMKy17WAeCjOHLyPb+n9eR",
      "include_colab_link": true
    },
    "kernelspec": {
      "name": "python3",
      "display_name": "Python 3"
    },
    "language_info": {
      "name": "python"
    }
  },
  "cells": [
    {
      "cell_type": "markdown",
      "metadata": {
        "id": "view-in-github",
        "colab_type": "text"
      },
      "source": [
        "<a href=\"https://colab.research.google.com/github/eridanirojas/563-rojas/blob/main/Homework1.ipynb\" target=\"_parent\"><img src=\"https://colab.research.google.com/assets/colab-badge.svg\" alt=\"Open In Colab\"/></a>"
      ]
    },
    {
      "cell_type": "code",
      "execution_count": 16,
      "metadata": {
        "colab": {
          "base_uri": "https://localhost:8080/"
        },
        "id": "D70iksWJxdOm",
        "outputId": "24c87a53-1bd6-4053-d998-9bc78b573090"
      },
      "outputs": [
        {
          "output_type": "stream",
          "name": "stdout",
          "text": [
            "1000000000000000000000000000000000000000000 or 10^42 configurations\n"
          ]
        }
      ],
      "source": [
        "# Run this notebook top to bottom for correct answers\n",
        "# Question 1; A with A1 and A2 with 10^20 and 10^22 configurations for each subsystem, respectively.\n",
        "# How many does A have?\n",
        "A1 = 10**20\n",
        "A2 = 10**22\n",
        "A = A1*A2\n",
        "print(A, \"or 10^42 configurations\")"
      ]
    },
    {
      "cell_type": "code",
      "source": [
        "# What are their respective entropies?\n",
        "import math\n",
        "kb = 1.38066*(10**-23)\n",
        "S1 = math.log(A1) * kb\n",
        "S2 = math.log(A2) * kb\n",
        "S = math.log(A) * kb\n",
        "print(S, S1, S2, \"J/Kmol, for A1, A2, and A respectively\")"
      ],
      "metadata": {
        "colab": {
          "base_uri": "https://localhost:8080/"
        },
        "id": "HhtVl9EM-eQU",
        "outputId": "82742b22-d978-417e-a170-ec366e596c4a"
      },
      "execution_count": 17,
      "outputs": [
        {
          "output_type": "stream",
          "name": "stdout",
          "text": [
            "1.3352165964871268e-21 6.358174268986318e-22 6.99399169588495e-22 J/Kmol, for A1, A2, and A respectively\n"
          ]
        }
      ]
    },
    {
      "cell_type": "code",
      "source": [
        "# Question 2; By what factor does the number of configurations increase when V1 = 10 L, P1 = 1 atm, T = 300 K constant, is allowed to\n",
        "# expand by 0.001%?\n",
        "V1 = 10\n",
        "P1 = 1\n",
        "T = 300\n",
        "V2 = V1 * 1.001\n",
        "R = 0.0821 # ideal gas constant\n",
        "e = 2.718281828459045 # exponential\n",
        "n = (V1*P1)/(R*T) # mols"
      ],
      "metadata": {
        "id": "60OmRQpE_8b3"
      },
      "execution_count": 18,
      "outputs": []
    },
    {
      "cell_type": "code",
      "source": [
        "deltaS = n * R * math.log(V2/V1) # Change in entropy in isothermal process"
      ],
      "metadata": {
        "id": "bRfyYySECXkl"
      },
      "execution_count": 19,
      "outputs": []
    },
    {
      "cell_type": "code",
      "source": [
        "ln_log_config_factor = (deltaS/kb) # Rearranged equation for solving for factor/ratio of configurations\n",
        "print(f\"Configurations increase by a factor of exp({ln_log_config_factor})\")"
      ],
      "metadata": {
        "colab": {
          "base_uri": "https://localhost:8080/"
        },
        "id": "ZICQGIICDfWy",
        "outputId": "cb10cd84-5e70-4fd2-c6af-e34f8120adad"
      },
      "execution_count": 20,
      "outputs": [
        {
          "output_type": "stream",
          "name": "stdout",
          "text": [
            "Configurations increase by a factor of exp(2.4130979219682934e+18)\n"
          ]
        }
      ]
    },
    {
      "cell_type": "code",
      "source": [
        "# Question 3; By what factor does the number of available configurations increase when 150 * 10^3 J is\n",
        "# added to a system with n = 2, V1/V2 = 1, and T1 = 300 K? (isochoric process)\n",
        "n = 2\n",
        "Cv = (3/2) * 8.314 # assuming ideal gas\n",
        "T1 = 300\n",
        "deltaQ = 150 * (10**3)"
      ],
      "metadata": {
        "id": "SKSW6MkcFF5m"
      },
      "execution_count": 21,
      "outputs": []
    },
    {
      "cell_type": "code",
      "source": [
        "# Must solve for T2\n",
        "T2 = deltaQ/(n*Cv) + T1\n",
        "print(T2) # Quite a high change, but we did add 150 kJ to a 2 mol system that doesn't expand"
      ],
      "metadata": {
        "colab": {
          "base_uri": "https://localhost:8080/"
        },
        "id": "bmTGqT8XGqr7",
        "outputId": "b8dab244-6828-4bd7-a17e-20ed6378ac96"
      },
      "execution_count": 22,
      "outputs": [
        {
          "output_type": "stream",
          "name": "stdout",
          "text": [
            "6313.952369497233\n"
          ]
        }
      ]
    },
    {
      "cell_type": "code",
      "source": [
        "# Solving for change in entropy for an isochoric process\n",
        "deltaS = n * Cv * math.log(T2/T1)\n",
        "# Using same arrangement as 2\n",
        "ln_log_config_factor = (deltaS/kb)\n",
        "print(f\"Configurations increase by a factor of exp({ln_log_config_factor})\")"
      ],
      "metadata": {
        "colab": {
          "base_uri": "https://localhost:8080/"
        },
        "id": "eFlrOwZgJNu5",
        "outputId": "bc494c94-be5e-446d-fed4-496606612072"
      },
      "execution_count": 23,
      "outputs": [
        {
          "output_type": "stream",
          "name": "stdout",
          "text": [
            "Configurations increase by a factor of exp(5.504009362206831e+24)\n"
          ]
        }
      ]
    },
    {
      "cell_type": "code",
      "source": [
        "# Question 4; A sample consisting of 5 molecules has a total energy of 5epsilon. Each molecule is able to occupy states of energy epsilonJ with\n",
        "# J approaching infinity in integers starting from 0. Draw up a table with columns by the energy of the states and write beneath them all configurations that are\n",
        "# consistent with the total energy. Identify the type of configuration that is most probable.\n",
        "# # Note from resubmission: The assignment is called \"Combinatorics\". I realize also that entropy says my previous configuration was actually the least probable.\n",
        "table = [[\"5,0,0,0,0\"],[\"4,1,0,0,0\"],[\"3,2,0,0,0\"],[\"3,1,1,0,0\"],[\"2,2,1,0,0\"],[\"2,1,1,1,0\"],[\"1,1,1,1,1\"]]\n",
        "print(table)\n",
        "# Combination formula used\n",
        "print(math.factorial(5)/(math.factorial(4) * 1)) # For 1st possible configuration\n",
        "print(math.factorial(5)/(math.factorial(3) * 1 * 1)) # For 2nd and 3rd possible configuration\n",
        "print(math.factorial(5)/(math.factorial(2) * math.factorial(2)), \"[4,1,0,0,0] and [3,2,0,0,0] are the most probable\") # For 4th and 5th possible configuration\n",
        "print(math.factorial(5)/(math.factorial(3) * 1 * 1)) # For 6th possible configuration\n",
        "print(math.factorial(5)/(math.factorial(5))) # For 7th possible configuration"
      ],
      "metadata": {
        "colab": {
          "base_uri": "https://localhost:8080/"
        },
        "id": "zONUyvg0JcK-",
        "outputId": "c64f7ec2-943a-4e73-b0ad-b96966556acf"
      },
      "execution_count": 24,
      "outputs": [
        {
          "output_type": "stream",
          "name": "stdout",
          "text": [
            "[['5,0,0,0,0'], ['4,1,0,0,0'], ['3,2,0,0,0'], ['3,1,1,0,0'], ['2,2,1,0,0'], ['2,1,1,1,0'], ['1,1,1,1,1']]\n",
            "5.0\n",
            "20.0\n",
            "30.0 [4,1,0,0,0] and [3,2,0,0,0] are the most probable\n",
            "20.0\n",
            "1.0\n"
          ]
        }
      ]
    }
  ]
}